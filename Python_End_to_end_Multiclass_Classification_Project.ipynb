{
  "nbformat": 4,
  "nbformat_minor": 0,
  "metadata": {
    "colab": {
      "provenance": []
    },
    "kernelspec": {
      "name": "python3",
      "display_name": "Python 3"
    },
    "language_info": {
      "name": "python"
    }
  },
  "cells": [
    {
      "cell_type": "code",
      "execution_count": 1,
      "metadata": {
        "colab": {
          "base_uri": "https://localhost:8080/",
          "height": 73
        },
        "id": "cVkpgtO1Qi9q",
        "outputId": "0c0e129a-6bf2-405b-effe-fe4a5397e4f3"
      },
      "outputs": [
        {
          "output_type": "display_data",
          "data": {
            "text/plain": [
              "<IPython.core.display.HTML object>"
            ],
            "text/html": [
              "\n",
              "     <input type=\"file\" id=\"files-7efbaec5-95ab-4d18-a247-2381517805a5\" name=\"files[]\" multiple disabled\n",
              "        style=\"border:none\" />\n",
              "     <output id=\"result-7efbaec5-95ab-4d18-a247-2381517805a5\">\n",
              "      Upload widget is only available when the cell has been executed in the\n",
              "      current browser session. Please rerun this cell to enable.\n",
              "      </output>\n",
              "      <script>// Copyright 2017 Google LLC\n",
              "//\n",
              "// Licensed under the Apache License, Version 2.0 (the \"License\");\n",
              "// you may not use this file except in compliance with the License.\n",
              "// You may obtain a copy of the License at\n",
              "//\n",
              "//      http://www.apache.org/licenses/LICENSE-2.0\n",
              "//\n",
              "// Unless required by applicable law or agreed to in writing, software\n",
              "// distributed under the License is distributed on an \"AS IS\" BASIS,\n",
              "// WITHOUT WARRANTIES OR CONDITIONS OF ANY KIND, either express or implied.\n",
              "// See the License for the specific language governing permissions and\n",
              "// limitations under the License.\n",
              "\n",
              "/**\n",
              " * @fileoverview Helpers for google.colab Python module.\n",
              " */\n",
              "(function(scope) {\n",
              "function span(text, styleAttributes = {}) {\n",
              "  const element = document.createElement('span');\n",
              "  element.textContent = text;\n",
              "  for (const key of Object.keys(styleAttributes)) {\n",
              "    element.style[key] = styleAttributes[key];\n",
              "  }\n",
              "  return element;\n",
              "}\n",
              "\n",
              "// Max number of bytes which will be uploaded at a time.\n",
              "const MAX_PAYLOAD_SIZE = 100 * 1024;\n",
              "\n",
              "function _uploadFiles(inputId, outputId) {\n",
              "  const steps = uploadFilesStep(inputId, outputId);\n",
              "  const outputElement = document.getElementById(outputId);\n",
              "  // Cache steps on the outputElement to make it available for the next call\n",
              "  // to uploadFilesContinue from Python.\n",
              "  outputElement.steps = steps;\n",
              "\n",
              "  return _uploadFilesContinue(outputId);\n",
              "}\n",
              "\n",
              "// This is roughly an async generator (not supported in the browser yet),\n",
              "// where there are multiple asynchronous steps and the Python side is going\n",
              "// to poll for completion of each step.\n",
              "// This uses a Promise to block the python side on completion of each step,\n",
              "// then passes the result of the previous step as the input to the next step.\n",
              "function _uploadFilesContinue(outputId) {\n",
              "  const outputElement = document.getElementById(outputId);\n",
              "  const steps = outputElement.steps;\n",
              "\n",
              "  const next = steps.next(outputElement.lastPromiseValue);\n",
              "  return Promise.resolve(next.value.promise).then((value) => {\n",
              "    // Cache the last promise value to make it available to the next\n",
              "    // step of the generator.\n",
              "    outputElement.lastPromiseValue = value;\n",
              "    return next.value.response;\n",
              "  });\n",
              "}\n",
              "\n",
              "/**\n",
              " * Generator function which is called between each async step of the upload\n",
              " * process.\n",
              " * @param {string} inputId Element ID of the input file picker element.\n",
              " * @param {string} outputId Element ID of the output display.\n",
              " * @return {!Iterable<!Object>} Iterable of next steps.\n",
              " */\n",
              "function* uploadFilesStep(inputId, outputId) {\n",
              "  const inputElement = document.getElementById(inputId);\n",
              "  inputElement.disabled = false;\n",
              "\n",
              "  const outputElement = document.getElementById(outputId);\n",
              "  outputElement.innerHTML = '';\n",
              "\n",
              "  const pickedPromise = new Promise((resolve) => {\n",
              "    inputElement.addEventListener('change', (e) => {\n",
              "      resolve(e.target.files);\n",
              "    });\n",
              "  });\n",
              "\n",
              "  const cancel = document.createElement('button');\n",
              "  inputElement.parentElement.appendChild(cancel);\n",
              "  cancel.textContent = 'Cancel upload';\n",
              "  const cancelPromise = new Promise((resolve) => {\n",
              "    cancel.onclick = () => {\n",
              "      resolve(null);\n",
              "    };\n",
              "  });\n",
              "\n",
              "  // Wait for the user to pick the files.\n",
              "  const files = yield {\n",
              "    promise: Promise.race([pickedPromise, cancelPromise]),\n",
              "    response: {\n",
              "      action: 'starting',\n",
              "    }\n",
              "  };\n",
              "\n",
              "  cancel.remove();\n",
              "\n",
              "  // Disable the input element since further picks are not allowed.\n",
              "  inputElement.disabled = true;\n",
              "\n",
              "  if (!files) {\n",
              "    return {\n",
              "      response: {\n",
              "        action: 'complete',\n",
              "      }\n",
              "    };\n",
              "  }\n",
              "\n",
              "  for (const file of files) {\n",
              "    const li = document.createElement('li');\n",
              "    li.append(span(file.name, {fontWeight: 'bold'}));\n",
              "    li.append(span(\n",
              "        `(${file.type || 'n/a'}) - ${file.size} bytes, ` +\n",
              "        `last modified: ${\n",
              "            file.lastModifiedDate ? file.lastModifiedDate.toLocaleDateString() :\n",
              "                                    'n/a'} - `));\n",
              "    const percent = span('0% done');\n",
              "    li.appendChild(percent);\n",
              "\n",
              "    outputElement.appendChild(li);\n",
              "\n",
              "    const fileDataPromise = new Promise((resolve) => {\n",
              "      const reader = new FileReader();\n",
              "      reader.onload = (e) => {\n",
              "        resolve(e.target.result);\n",
              "      };\n",
              "      reader.readAsArrayBuffer(file);\n",
              "    });\n",
              "    // Wait for the data to be ready.\n",
              "    let fileData = yield {\n",
              "      promise: fileDataPromise,\n",
              "      response: {\n",
              "        action: 'continue',\n",
              "      }\n",
              "    };\n",
              "\n",
              "    // Use a chunked sending to avoid message size limits. See b/62115660.\n",
              "    let position = 0;\n",
              "    do {\n",
              "      const length = Math.min(fileData.byteLength - position, MAX_PAYLOAD_SIZE);\n",
              "      const chunk = new Uint8Array(fileData, position, length);\n",
              "      position += length;\n",
              "\n",
              "      const base64 = btoa(String.fromCharCode.apply(null, chunk));\n",
              "      yield {\n",
              "        response: {\n",
              "          action: 'append',\n",
              "          file: file.name,\n",
              "          data: base64,\n",
              "        },\n",
              "      };\n",
              "\n",
              "      let percentDone = fileData.byteLength === 0 ?\n",
              "          100 :\n",
              "          Math.round((position / fileData.byteLength) * 100);\n",
              "      percent.textContent = `${percentDone}% done`;\n",
              "\n",
              "    } while (position < fileData.byteLength);\n",
              "  }\n",
              "\n",
              "  // All done.\n",
              "  yield {\n",
              "    response: {\n",
              "      action: 'complete',\n",
              "    }\n",
              "  };\n",
              "}\n",
              "\n",
              "scope.google = scope.google || {};\n",
              "scope.google.colab = scope.google.colab || {};\n",
              "scope.google.colab._files = {\n",
              "  _uploadFiles,\n",
              "  _uploadFilesContinue,\n",
              "};\n",
              "})(self);\n",
              "</script> "
            ]
          },
          "metadata": {}
        },
        {
          "output_type": "stream",
          "name": "stdout",
          "text": [
            "Saving RTA Dataset.csv to RTA Dataset.csv\n"
          ]
        }
      ],
      "source": [
        "from google.colab import files\n",
        " \n",
        " \n",
        "uploaded = files.upload()"
      ]
    },
    {
      "cell_type": "code",
      "source": [
        "import pandas as pd\n",
        "import io\n",
        "\n",
        "df = pd.read_csv(io.BytesIO(uploaded['RTA Dataset.csv']))\n",
        "print(df)\n"
      ],
      "metadata": {
        "colab": {
          "base_uri": "https://localhost:8080/"
        },
        "id": "XO5gNCpsRCGz",
        "outputId": "2c5c297c-ec91-457a-8c3e-c397e3d2c9ef"
      },
      "execution_count": 2,
      "outputs": [
        {
          "output_type": "stream",
          "name": "stdout",
          "text": [
            "           Time Day_of_week Age_band_of_driver Sex_of_driver  \\\n",
            "0      17:02:00      Monday              18-30          Male   \n",
            "1      17:02:00      Monday              31-50          Male   \n",
            "2      17:02:00      Monday              18-30          Male   \n",
            "3       1:06:00      Sunday              18-30          Male   \n",
            "4       1:06:00      Sunday              18-30          Male   \n",
            "...         ...         ...                ...           ...   \n",
            "12311  16:15:00   Wednesday              31-50          Male   \n",
            "12312  18:00:00      Sunday            Unknown          Male   \n",
            "12313  13:55:00      Sunday            Over 51          Male   \n",
            "12314  13:55:00      Sunday              18-30        Female   \n",
            "12315  13:55:00      Sunday              18-30          Male   \n",
            "\n",
            "        Educational_level Vehicle_driver_relation Driving_experience  \\\n",
            "0       Above high school                Employee              1-2yr   \n",
            "1      Junior high school                Employee         Above 10yr   \n",
            "2      Junior high school                Employee              1-2yr   \n",
            "3      Junior high school                Employee             5-10yr   \n",
            "4      Junior high school                Employee              2-5yr   \n",
            "...                   ...                     ...                ...   \n",
            "12311                 NaN                Employee              2-5yr   \n",
            "12312   Elementary school                Employee             5-10yr   \n",
            "12313  Junior high school                Employee             5-10yr   \n",
            "12314  Junior high school                Employee         Above 10yr   \n",
            "12315  Junior high school                Employee             5-10yr   \n",
            "\n",
            "           Type_of_vehicle Owner_of_vehicle Service_year_of_vehicle  ...  \\\n",
            "0               Automobile            Owner              Above 10yr  ...   \n",
            "1      Public (> 45 seats)            Owner                 5-10yrs  ...   \n",
            "2          Lorry (41?100Q)            Owner                     NaN  ...   \n",
            "3      Public (> 45 seats)     Governmental                     NaN  ...   \n",
            "4                      NaN            Owner                 5-10yrs  ...   \n",
            "...                    ...              ...                     ...  ...   \n",
            "12311       Lorry (11?40Q)            Owner                     NaN  ...   \n",
            "12312           Automobile            Owner                     NaN  ...   \n",
            "12313                Bajaj            Owner                  2-5yrs  ...   \n",
            "12314      Lorry (41?100Q)            Owner                  2-5yrs  ...   \n",
            "12315                Other            Owner                  2-5yrs  ...   \n",
            "\n",
            "      Vehicle_movement   Casualty_class Sex_of_casualty Age_band_of_casualty  \\\n",
            "0       Going straight               na              na                   na   \n",
            "1       Going straight               na              na                   na   \n",
            "2       Going straight  Driver or rider            Male                31-50   \n",
            "3       Going straight       Pedestrian          Female                18-30   \n",
            "4       Going straight               na              na                   na   \n",
            "...                ...              ...             ...                  ...   \n",
            "12311   Going straight               na              na                   na   \n",
            "12312            Other               na              na                   na   \n",
            "12313            Other  Driver or rider            Male                31-50   \n",
            "12314            Other               na              na                   na   \n",
            "12315         Stopping       Pedestrian          Female                    5   \n",
            "\n",
            "      Casualty_severity Work_of_casuality Fitness_of_casuality  \\\n",
            "0                    na               NaN                  NaN   \n",
            "1                    na               NaN                  NaN   \n",
            "2                     3            Driver                  NaN   \n",
            "3                     3            Driver               Normal   \n",
            "4                    na               NaN                  NaN   \n",
            "...                 ...               ...                  ...   \n",
            "12311                na            Driver               Normal   \n",
            "12312                na            Driver               Normal   \n",
            "12313                 3            Driver               Normal   \n",
            "12314                na            Driver               Normal   \n",
            "12315                 3            Driver               Normal   \n",
            "\n",
            "                                     Pedestrian_movement  \\\n",
            "0                                       Not a Pedestrian   \n",
            "1                                       Not a Pedestrian   \n",
            "2                                       Not a Pedestrian   \n",
            "3                                       Not a Pedestrian   \n",
            "4                                       Not a Pedestrian   \n",
            "...                                                  ...   \n",
            "12311                                   Not a Pedestrian   \n",
            "12312                                   Not a Pedestrian   \n",
            "12313                                   Not a Pedestrian   \n",
            "12314                                   Not a Pedestrian   \n",
            "12315  Crossing from nearside - masked by parked or s...   \n",
            "\n",
            "                          Cause_of_accident Accident_severity  \n",
            "0                           Moving Backward     Slight Injury  \n",
            "1                                Overtaking     Slight Injury  \n",
            "2                 Changing lane to the left    Serious Injury  \n",
            "3                Changing lane to the right     Slight Injury  \n",
            "4                                Overtaking     Slight Injury  \n",
            "...                                     ...               ...  \n",
            "12311                         No distancing     Slight Injury  \n",
            "12312                         No distancing     Slight Injury  \n",
            "12313            Changing lane to the right    Serious Injury  \n",
            "12314  Driving under the influence of drugs     Slight Injury  \n",
            "12315            Changing lane to the right     Slight Injury  \n",
            "\n",
            "[12316 rows x 32 columns]\n"
          ]
        }
      ]
    },
    {
      "cell_type": "code",
      "source": [
        "# print the dataset information\n",
        "df.info()"
      ],
      "metadata": {
        "colab": {
          "base_uri": "https://localhost:8080/"
        },
        "id": "0qd2Ad0cRCXQ",
        "outputId": "5a6f970b-beff-4954-8bd6-f3772bc36eca"
      },
      "execution_count": 4,
      "outputs": [
        {
          "output_type": "stream",
          "name": "stdout",
          "text": [
            "<class 'pandas.core.frame.DataFrame'>\n",
            "RangeIndex: 12316 entries, 0 to 12315\n",
            "Data columns (total 32 columns):\n",
            " #   Column                       Non-Null Count  Dtype \n",
            "---  ------                       --------------  ----- \n",
            " 0   Time                         12316 non-null  object\n",
            " 1   Day_of_week                  12316 non-null  object\n",
            " 2   Age_band_of_driver           12316 non-null  object\n",
            " 3   Sex_of_driver                12316 non-null  object\n",
            " 4   Educational_level            11575 non-null  object\n",
            " 5   Vehicle_driver_relation      11737 non-null  object\n",
            " 6   Driving_experience           11487 non-null  object\n",
            " 7   Type_of_vehicle              11366 non-null  object\n",
            " 8   Owner_of_vehicle             11834 non-null  object\n",
            " 9   Service_year_of_vehicle      8388 non-null   object\n",
            " 10  Defect_of_vehicle            7889 non-null   object\n",
            " 11  Area_accident_occured        12077 non-null  object\n",
            " 12  Lanes_or_Medians             11931 non-null  object\n",
            " 13  Road_allignment              12174 non-null  object\n",
            " 14  Types_of_Junction            11429 non-null  object\n",
            " 15  Road_surface_type            12144 non-null  object\n",
            " 16  Road_surface_conditions      12316 non-null  object\n",
            " 17  Light_conditions             12316 non-null  object\n",
            " 18  Weather_conditions           12316 non-null  object\n",
            " 19  Type_of_collision            12161 non-null  object\n",
            " 20  Number_of_vehicles_involved  12316 non-null  int64 \n",
            " 21  Number_of_casualties         12316 non-null  int64 \n",
            " 22  Vehicle_movement             12008 non-null  object\n",
            " 23  Casualty_class               12316 non-null  object\n",
            " 24  Sex_of_casualty              12316 non-null  object\n",
            " 25  Age_band_of_casualty         12316 non-null  object\n",
            " 26  Casualty_severity            12316 non-null  object\n",
            " 27  Work_of_casuality            9118 non-null   object\n",
            " 28  Fitness_of_casuality         9681 non-null   object\n",
            " 29  Pedestrian_movement          12316 non-null  object\n",
            " 30  Cause_of_accident            12316 non-null  object\n",
            " 31  Accident_severity            12316 non-null  object\n",
            "dtypes: int64(2), object(30)\n",
            "memory usage: 3.0+ MB\n"
          ]
        }
      ]
    },
    {
      "cell_type": "code",
      "source": [
        "# Find the number of missing values present in each column\n",
        "df.isnull().sum()"
      ],
      "metadata": {
        "colab": {
          "base_uri": "https://localhost:8080/"
        },
        "id": "uYXEmDm5RfEm",
        "outputId": "c500ff2a-3413-46f4-b8e2-cec0944250ae"
      },
      "execution_count": 5,
      "outputs": [
        {
          "output_type": "execute_result",
          "data": {
            "text/plain": [
              "Time                              0\n",
              "Day_of_week                       0\n",
              "Age_band_of_driver                0\n",
              "Sex_of_driver                     0\n",
              "Educational_level               741\n",
              "Vehicle_driver_relation         579\n",
              "Driving_experience              829\n",
              "Type_of_vehicle                 950\n",
              "Owner_of_vehicle                482\n",
              "Service_year_of_vehicle        3928\n",
              "Defect_of_vehicle              4427\n",
              "Area_accident_occured           239\n",
              "Lanes_or_Medians                385\n",
              "Road_allignment                 142\n",
              "Types_of_Junction               887\n",
              "Road_surface_type               172\n",
              "Road_surface_conditions           0\n",
              "Light_conditions                  0\n",
              "Weather_conditions                0\n",
              "Type_of_collision               155\n",
              "Number_of_vehicles_involved       0\n",
              "Number_of_casualties              0\n",
              "Vehicle_movement                308\n",
              "Casualty_class                    0\n",
              "Sex_of_casualty                   0\n",
              "Age_band_of_casualty              0\n",
              "Casualty_severity                 0\n",
              "Work_of_casuality              3198\n",
              "Fitness_of_casuality           2635\n",
              "Pedestrian_movement               0\n",
              "Cause_of_accident                 0\n",
              "Accident_severity                 0\n",
              "dtype: int64"
            ]
          },
          "metadata": {},
          "execution_count": 5
        }
      ]
    },
    {
      "cell_type": "code",
      "source": [
        "# target variable classes counts and bar plot\n",
        "import matplotlib.pyplot as plt\n",
        "print(df['Accident_severity'].value_counts())\n",
        "df['Accident_severity'].value_counts().plot(kind='bar')"
      ],
      "metadata": {
        "colab": {
          "base_uri": "https://localhost:8080/",
          "height": 598
        },
        "id": "bpgyNJigRfG-",
        "outputId": "32af860a-56d1-4b05-a223-c3bd5b18b6a5"
      },
      "execution_count": 6,
      "outputs": [
        {
          "output_type": "stream",
          "name": "stdout",
          "text": [
            "Slight Injury     10415\n",
            "Serious Injury     1743\n",
            "Fatal injury        158\n",
            "Name: Accident_severity, dtype: int64\n"
          ]
        },
        {
          "output_type": "execute_result",
          "data": {
            "text/plain": [
              "<Axes: >"
            ]
          },
          "metadata": {},
          "execution_count": 6
        },
        {
          "output_type": "display_data",
          "data": {
            "text/plain": [
              "<Figure size 640x480 with 1 Axes>"
            ],
            "image/png": "[encoded data removed]"
          },
          "metadata": {}
        }
      ]
    },
    {
      "cell_type": "code",
      "source": [
        "# Education levels of car drivers\n",
        "df['Educational_level'].value_counts().plot(kind='bar')"
      ],
      "metadata": {
        "colab": {
          "base_uri": "https://localhost:8080/",
          "height": 562
        },
        "id": "9jU2q1fGRfJh",
        "outputId": "d0704eb9-9a7f-4869-bb96-da105656e3d1"
      },
      "execution_count": 7,
      "outputs": [
        {
          "output_type": "execute_result",
          "data": {
            "text/plain": [
              "<Axes: >"
            ]
          },
          "metadata": {},
          "execution_count": 7
        },
        {
          "output_type": "display_data",
          "data": {
            "text/plain": [
              "<Figure size 640x480 with 1 Axes>"
            ],
            "image/png": "[encoded data removed]"
          },
          "metadata": {}
        }
      ]
    },
    {
      "cell_type": "code",
      "source": [
        "import seaborn as sns\n",
        "\n",
        "stackup_username = \"MrRookie\"\n",
        "print(\"Submission by:\", stackup_username)\n",
        "\n",
        "# plot the bar plot of road_surface_type and accident severity feature\n",
        "plt.figure(figsize=(6,5))\n",
        "sns.countplot(x=\"Road_surface_type\", hue=\"Accident_severity\", data=df)\n",
        "plt.xlabel(\"Road surface type\")\n",
        "plt.xticks(rotation=60)\n",
        "plt.show()"
      ],
      "metadata": {
        "colab": {
          "base_uri": "https://localhost:8080/",
          "height": 677
        },
        "id": "dZRj5A8mRfMW",
        "outputId": "06a25cfd-2eda-4b2d-fdf2-e69ee53419a4"
      },
      "execution_count": 8,
      "outputs": [
        {
          "output_type": "stream",
          "name": "stdout",
          "text": [
            "Submission by: MrRookie\n"
          ]
        },
        {
          "output_type": "display_data",
          "data": {
            "text/plain": [
              "<Figure size 600x500 with 1 Axes>"
            ],
            "image/png": "[encoded data removed]"
          },
          "metadata": {}
        }
      ]
    },
    {
      "cell_type": "code",
      "source": [
        "# convert object type column into datetime datatype column\n",
        "df['Time'] = pd.to_datetime(df['Time'])\n",
        "\n",
        "# Extrating 'Hour_of_Day' feature from the Time column\n",
        "new_df = df.copy()\n",
        "new_df['Hour_of_Day'] = new_df['Time'].dt.hour\n",
        "n_df = new_df.drop('Time', axis=1)\n",
        "n_df.head()\n"
      ],
      "metadata": {
        "id": "nGFwDVFiRfOf",
        "colab": {
          "base_uri": "https://localhost:8080/",
          "height": 351
        },
        "outputId": "1a126750-9cf7-4811-bd20-73b8ae871993"
      },
      "execution_count": 9,
      "outputs": [
        {
          "output_type": "execute_result",
          "data": {
            "text/plain": [
              "  Day_of_week Age_band_of_driver Sex_of_driver   Educational_level  \\\n",
              "0      Monday              18-30          Male   Above high school   \n",
              "1      Monday              31-50          Male  Junior high school   \n",
              "2      Monday              18-30          Male  Junior high school   \n",
              "3      Sunday              18-30          Male  Junior high school   \n",
              "4      Sunday              18-30          Male  Junior high school   \n",
              "\n",
              "  Vehicle_driver_relation Driving_experience      Type_of_vehicle  \\\n",
              "0                Employee              1-2yr           Automobile   \n",
              "1                Employee         Above 10yr  Public (> 45 seats)   \n",
              "2                Employee              1-2yr      Lorry (41?100Q)   \n",
              "3                Employee             5-10yr  Public (> 45 seats)   \n",
              "4                Employee              2-5yr                  NaN   \n",
              "\n",
              "  Owner_of_vehicle Service_year_of_vehicle Defect_of_vehicle  ...  \\\n",
              "0            Owner              Above 10yr         No defect  ...   \n",
              "1            Owner                 5-10yrs         No defect  ...   \n",
              "2            Owner                     NaN         No defect  ...   \n",
              "3     Governmental                     NaN         No defect  ...   \n",
              "4            Owner                 5-10yrs         No defect  ...   \n",
              "\n",
              "    Casualty_class Sex_of_casualty Age_band_of_casualty Casualty_severity  \\\n",
              "0               na              na                   na                na   \n",
              "1               na              na                   na                na   \n",
              "2  Driver or rider            Male                31-50                 3   \n",
              "3       Pedestrian          Female                18-30                 3   \n",
              "4               na              na                   na                na   \n",
              "\n",
              "  Work_of_casuality Fitness_of_casuality Pedestrian_movement  \\\n",
              "0               NaN                  NaN    Not a Pedestrian   \n",
              "1               NaN                  NaN    Not a Pedestrian   \n",
              "2            Driver                  NaN    Not a Pedestrian   \n",
              "3            Driver               Normal    Not a Pedestrian   \n",
              "4               NaN                  NaN    Not a Pedestrian   \n",
              "\n",
              "            Cause_of_accident Accident_severity  Hour_of_Day  \n",
              "0             Moving Backward     Slight Injury           17  \n",
              "1                  Overtaking     Slight Injury           17  \n",
              "2   Changing lane to the left    Serious Injury           17  \n",
              "3  Changing lane to the right     Slight Injury            1  \n",
              "4                  Overtaking     Slight Injury            1  \n",
              "\n",
              "[5 rows x 32 columns]"
            ],
            "text/html": [
              "\n",
              "  <div id=\"df-b13dae6d-242d-4503-9fb1-f9ac19e28080\">\n",
              "    <div class=\"colab-df-container\">\n",
              "      <div>\n",
              "<style scoped>\n",
              "    .dataframe tbody tr th:only-of-type {\n",
              "        vertical-align: middle;\n",
              "    }\n",
              "\n",
              "    .dataframe tbody tr th {\n",
              "        vertical-align: top;\n",
              "    }\n",
              "\n",
              "    .dataframe thead th {\n",
              "        text-align: right;\n",
              "    }\n",
              "</style>\n",
              "<table border=\"1\" class=\"dataframe\">\n",
              "  <thead>\n",
              "    <tr style=\"text-align: right;\">\n",
              "      <th></th>\n",
              "      <th>Day_of_week</th>\n",
              "      <th>Age_band_of_driver</th>\n",
              "      <th>Sex_of_driver</th>\n",
              "      <th>Educational_level</th>\n",
              "      <th>Vehicle_driver_relation</th>\n",
              "      <th>Driving_experience</th>\n",
              "      <th>Type_of_vehicle</th>\n",
              "      <th>Owner_of_vehicle</th>\n",
              "      <th>Service_year_of_vehicle</th>\n",
              "      <th>Defect_of_vehicle</th>\n",
              "      <th>...</th>\n",
              "      <th>Casualty_class</th>\n",
              "      <th>Sex_of_casualty</th>\n",
              "      <th>Age_band_of_casualty</th>\n",
              "      <th>Casualty_severity</th>\n",
              "      <th>Work_of_casuality</th>\n",
              "      <th>Fitness_of_casuality</th>\n",
              "      <th>Pedestrian_movement</th>\n",
              "      <th>Cause_of_accident</th>\n",
              "      <th>Accident_severity</th>\n",
              "      <th>Hour_of_Day</th>\n",
              "    </tr>\n",
              "  </thead>\n",
              "  <tbody>\n",
              "    <tr>\n",
              "      <th>0</th>\n",
              "      <td>Monday</td>\n",
              "      <td>18-30</td>\n",
              "      <td>Male</td>\n",
              "      <td>Above high school</td>\n",
              "      <td>Employee</td>\n",
              "      <td>1-2yr</td>\n",
              "      <td>Automobile</td>\n",
              "      <td>Owner</td>\n",
              "      <td>Above 10yr</td>\n",
              "      <td>No defect</td>\n",
              "      <td>...</td>\n",
              "      <td>na</td>\n",
              "      <td>na</td>\n",
              "      <td>na</td>\n",
              "      <td>na</td>\n",
              "      <td>NaN</td>\n",
              "      <td>NaN</td>\n",
              "      <td>Not a Pedestrian</td>\n",
              "      <td>Moving Backward</td>\n",
              "      <td>Slight Injury</td>\n",
              "      <td>17</td>\n",
              "    </tr>\n",
              "    <tr>\n",
              "      <th>1</th>\n",
              "      <td>Monday</td>\n",
              "      <td>31-50</td>\n",
              "      <td>Male</td>\n",
              "      <td>Junior high school</td>\n",
              "      <td>Employee</td>\n",
              "      <td>Above 10yr</td>\n",
              "      <td>Public (&gt; 45 seats)</td>\n",
              "      <td>Owner</td>\n",
              "      <td>5-10yrs</td>\n",
              "      <td>No defect</td>\n",
              "      <td>...</td>\n",
              "      <td>na</td>\n",
              "      <td>na</td>\n",
              "      <td>na</td>\n",
              "      <td>na</td>\n",
              "      <td>NaN</td>\n",
              "      <td>NaN</td>\n",
              "      <td>Not a Pedestrian</td>\n",
              "      <td>Overtaking</td>\n",
              "      <td>Slight Injury</td>\n",
              "      <td>17</td>\n",
              "    </tr>\n",
              "    <tr>\n",
              "      <th>2</th>\n",
              "      <td>Monday</td>\n",
              "      <td>18-30</td>\n",
              "      <td>Male</td>\n",
              "      <td>Junior high school</td>\n",
              "      <td>Employee</td>\n",
              "      <td>1-2yr</td>\n",
              "      <td>Lorry (41?100Q)</td>\n",
              "      <td>Owner</td>\n",
              "      <td>NaN</td>\n",
              "      <td>No defect</td>\n",
              "      <td>...</td>\n",
              "      <td>Driver or rider</td>\n",
              "      <td>Male</td>\n",
              "      <td>31-50</td>\n",
              "      <td>3</td>\n",
              "      <td>Driver</td>\n",
              "      <td>NaN</td>\n",
              "      <td>Not a Pedestrian</td>\n",
              "      <td>Changing lane to the left</td>\n",
              "      <td>Serious Injury</td>\n",
              "      <td>17</td>\n",
              "    </tr>\n",
              "    <tr>\n",
              "      <th>3</th>\n",
              "      <td>Sunday</td>\n",
              "      <td>18-30</td>\n",
              "      <td>Male</td>\n",
              "      <td>Junior high school</td>\n",
              "      <td>Employee</td>\n",
              "      <td>5-10yr</td>\n",
              "      <td>Public (&gt; 45 seats)</td>\n",
              "      <td>Governmental</td>\n",
              "      <td>NaN</td>\n",
              "      <td>No defect</td>\n",
              "      <td>...</td>\n",
              "      <td>Pedestrian</td>\n",
              "      <td>Female</td>\n",
              "      <td>18-30</td>\n",
              "      <td>3</td>\n",
              "      <td>Driver</td>\n",
              "      <td>Normal</td>\n",
              "      <td>Not a Pedestrian</td>\n",
              "      <td>Changing lane to the right</td>\n",
              "      <td>Slight Injury</td>\n",
              "      <td>1</td>\n",
              "    </tr>\n",
              "    <tr>\n",
              "      <th>4</th>\n",
              "      <td>Sunday</td>\n",
              "      <td>18-30</td>\n",
              "      <td>Male</td>\n",
              "      <td>Junior high school</td>\n",
              "      <td>Employee</td>\n",
              "      <td>2-5yr</td>\n",
              "      <td>NaN</td>\n",
              "      <td>Owner</td>\n",
              "      <td>5-10yrs</td>\n",
              "      <td>No defect</td>\n",
              "      <td>...</td>\n",
              "      <td>na</td>\n",
              "      <td>na</td>\n",
              "      <td>na</td>\n",
              "      <td>na</td>\n",
              "      <td>NaN</td>\n",
              "      <td>NaN</td>\n",
              "      <td>Not a Pedestrian</td>\n",
              "      <td>Overtaking</td>\n",
              "      <td>Slight Injury</td>\n",
              "      <td>1</td>\n",
              "    </tr>\n",
              "  </tbody>\n",
              "</table>\n",
              "<p>5 rows × 32 columns</p>\n",
              "</div>\n",
              "      <button class=\"colab-df-convert\" onclick=\"convertToInteractive('df-b13dae6d-242d-4503-9fb1-f9ac19e28080')\"\n",
              "              title=\"Convert this dataframe to an interactive table.\"\n",
              "              style=\"display:none;\">\n",
              "        \n",
              "  <svg xmlns=\"http://www.w3.org/2000/svg\" height=\"24px\"viewBox=\"0 0 24 24\"\n",
              "       width=\"24px\">\n",
              "    <path d=\"M0 0h24v24H0V0z\" fill=\"none\"/>\n",
              "    <path d=\"M18.56 5.44l.94 2.06.94-2.06 2.06-.94-2.06-.94-.94-2.06-.94 2.06-2.06.94zm-11 1L8.5 8.5l.94-2.06 2.06-.94-2.06-.94L8.5 2.5l-.94 2.06-2.06.94zm10 10l.94 2.06.94-2.06 2.06-.94-2.06-.94-.94-2.06-.94 2.06-2.06.94z\"/><path d=\"M17.41 7.96l-1.37-1.37c-.4-.4-.92-.59-1.43-.59-.52 0-1.04.2-1.43.59L10.3 9.45l-7.72 7.72c-.78.78-.78 2.05 0 2.83L4 21.41c.39.39.9.59 1.41.59.51 0 1.02-.2 1.41-.59l7.78-7.78 2.81-2.81c.8-.78.8-2.07 0-2.86zM5.41 20L4 18.59l7.72-7.72 1.47 1.35L5.41 20z\"/>\n",
              "  </svg>\n",
              "      </button>\n",
              "      \n",
              "  <style>\n",
              "    .colab-df-container {\n",
              "      display:flex;\n",
              "      flex-wrap:wrap;\n",
              "      gap: 12px;\n",
              "    }\n",
              "\n",
              "    .colab-df-convert {\n",
              "      background-color: #E8F0FE;\n",
              "      border: none;\n",
              "      border-radius: 50%;\n",
              "      cursor: pointer;\n",
              "      display: none;\n",
              "      fill: #1967D2;\n",
              "      height: 32px;\n",
              "      padding: 0 0 0 0;\n",
              "      width: 32px;\n",
              "    }\n",
              "\n",
              "    .colab-df-convert:hover {\n",
              "      background-color: #E2EBFA;\n",
              "      box-shadow: 0px 1px 2px rgba(60, 64, 67, 0.3), 0px 1px 3px 1px rgba(60, 64, 67, 0.15);\n",
              "      fill: #174EA6;\n",
              "    }\n",
              "\n",
              "    [theme=dark] .colab-df-convert {\n",
              "      background-color: #3B4455;\n",
              "      fill: #D2E3FC;\n",
              "    }\n",
              "\n",
              "    [theme=dark] .colab-df-convert:hover {\n",
              "      background-color: #434B5C;\n",
              "      box-shadow: 0px 1px 3px 1px rgba(0, 0, 0, 0.15);\n",
              "      filter: drop-shadow(0px 1px 2px rgba(0, 0, 0, 0.3));\n",
              "      fill: #FFFFFF;\n",
              "    }\n",
              "  </style>\n",
              "\n",
              "      <script>\n",
              "        const buttonEl =\n",
              "          document.querySelector('#df-b13dae6d-242d-4503-9fb1-f9ac19e28080 button.colab-df-convert');\n",
              "        buttonEl.style.display =\n",
              "          google.colab.kernel.accessAllowed ? 'block' : 'none';\n",
              "\n",
              "        async function convertToInteractive(key) {\n",
              "          const element = document.querySelector('#df-b13dae6d-242d-4503-9fb1-f9ac19e28080');\n",
              "          const dataTable =\n",
              "            await google.colab.kernel.invokeFunction('convertToInteractive',\n",
              "                                                     [key], {});\n",
              "          if (!dataTable) return;\n",
              "\n",
              "          const docLinkHtml = 'Like what you see? Visit the ' +\n",
              "            '<a target=\"_blank\" href=https://colab.research.google.com/notebooks/data_table.ipynb>data table notebook</a>'\n",
              "            + ' to learn more about interactive tables.';\n",
              "          element.innerHTML = '';\n",
              "          dataTable['output_type'] = 'display_data';\n",
              "          await google.colab.output.renderOutput(dataTable, element);\n",
              "          const docLink = document.createElement('div');\n",
              "          docLink.innerHTML = docLinkHtml;\n",
              "          element.appendChild(docLink);\n",
              "        }\n",
              "      </script>\n",
              "    </div>\n",
              "  </div>\n",
              "  "
            ]
          },
          "metadata": {},
          "execution_count": 9
        }
      ]
    },
    {
      "cell_type": "code",
      "source": [
        "# feature selection based on visualization (to_be_continue)\n",
        "features = ['Day_of_week','Number_of_vehicles_involved','Number_of_casualties','Area_accident_occured',\n",
        "      'Types_of_Junction','Age_band_of_driver','Sex_of_driver','Educational_level',\n",
        "      'Vehicle_driver_relation','Type_of_vehicle','Driving_experience','Service_year_of_vehicle','Type_of_collision',\n",
        "      'Sex_of_casualty','Age_band_of_casualty','Cause_of_accident','Hour_of_Day']\n",
        "len(features)\n"
      ],
      "metadata": {
        "id": "C-DeObSeRfQk",
        "colab": {
          "base_uri": "https://localhost:8080/"
        },
        "outputId": "2c89310a-a93d-43eb-9f9e-0b057cb288e5"
      },
      "execution_count": 10,
      "outputs": [
        {
          "output_type": "execute_result",
          "data": {
            "text/plain": [
              "17"
            ]
          },
          "metadata": {},
          "execution_count": 10
        }
      ]
    },
    {
      "cell_type": "code",
      "source": [
        "# new dataframe generated\n",
        "featureset_df = n_df[features]\n",
        "target = n_df['Accident_severity']\n"
      ],
      "metadata": {
        "id": "CRU5o8Wlcfbg"
      },
      "execution_count": 11,
      "outputs": []
    },
    {
      "cell_type": "code",
      "source": [
        "# metadata of the new sub dataset\n",
        "featureset_df.info()\n"
      ],
      "metadata": {
        "colab": {
          "base_uri": "https://localhost:8080/"
        },
        "id": "i1FWCpPVcfeV",
        "outputId": "4c7c56d2-0dd8-4e4e-93a1-7021508e8d58"
      },
      "execution_count": 12,
      "outputs": [
        {
          "output_type": "stream",
          "name": "stdout",
          "text": [
            "<class 'pandas.core.frame.DataFrame'>\n",
            "RangeIndex: 12316 entries, 0 to 12315\n",
            "Data columns (total 17 columns):\n",
            " #   Column                       Non-Null Count  Dtype \n",
            "---  ------                       --------------  ----- \n",
            " 0   Day_of_week                  12316 non-null  object\n",
            " 1   Number_of_vehicles_involved  12316 non-null  int64 \n",
            " 2   Number_of_casualties         12316 non-null  int64 \n",
            " 3   Area_accident_occured        12077 non-null  object\n",
            " 4   Types_of_Junction            11429 non-null  object\n",
            " 5   Age_band_of_driver           12316 non-null  object\n",
            " 6   Sex_of_driver                12316 non-null  object\n",
            " 7   Educational_level            11575 non-null  object\n",
            " 8   Vehicle_driver_relation      11737 non-null  object\n",
            " 9   Type_of_vehicle              11366 non-null  object\n",
            " 10  Driving_experience           11487 non-null  object\n",
            " 11  Service_year_of_vehicle      8388 non-null   object\n",
            " 12  Type_of_collision            12161 non-null  object\n",
            " 13  Sex_of_casualty              12316 non-null  object\n",
            " 14  Age_band_of_casualty         12316 non-null  object\n",
            " 15  Cause_of_accident            12316 non-null  object\n",
            " 16  Hour_of_Day                  12316 non-null  int64 \n",
            "dtypes: int64(3), object(14)\n",
            "memory usage: 1.6+ MB\n"
          ]
        }
      ]
    },
    {
      "cell_type": "code",
      "source": [
        "feature_df = featureset_df.copy()\n",
        "\n",
        "# NaN are missing because service info might not be available, we will fill as 'Unknown'\n",
        "feature_df['Service_year_of_vehicle'] = feature_df['Service_year_of_vehicle'].fillna('Unknown')\n",
        "feature_df['Types_of_Junction'] = feature_df['Types_of_Junction'].fillna('Unknown')\n",
        "feature_df['Area_accident_occured'] = feature_df['Area_accident_occured'].fillna('Unknown')\n",
        "feature_df['Driving_experience'] = feature_df['Driving_experience'].fillna('unknown')\n",
        "feature_df['Type_of_vehicle'] = feature_df['Type_of_vehicle'].fillna('Other')\n",
        "feature_df['Vehicle_driver_relation'] = feature_df['Vehicle_driver_relation'].fillna('Unknown')\n",
        "feature_df['Educational_level'] = feature_df['Educational_level'].fillna('Unknown')\n",
        "feature_df['Type_of_collision'] = feature_df['Type_of_collision'].fillna('Unknown')\n",
        "\n",
        "# features information\n",
        "feature_df.info()\n"
      ],
      "metadata": {
        "colab": {
          "base_uri": "https://localhost:8080/"
        },
        "id": "dcKepW6Jcfhv",
        "outputId": "9679b538-4244-4e7d-e45a-1284334173d1"
      },
      "execution_count": 13,
      "outputs": [
        {
          "output_type": "stream",
          "name": "stdout",
          "text": [
            "<class 'pandas.core.frame.DataFrame'>\n",
            "RangeIndex: 12316 entries, 0 to 12315\n",
            "Data columns (total 17 columns):\n",
            " #   Column                       Non-Null Count  Dtype \n",
            "---  ------                       --------------  ----- \n",
            " 0   Day_of_week                  12316 non-null  object\n",
            " 1   Number_of_vehicles_involved  12316 non-null  int64 \n",
            " 2   Number_of_casualties         12316 non-null  int64 \n",
            " 3   Area_accident_occured        12316 non-null  object\n",
            " 4   Types_of_Junction            12316 non-null  object\n",
            " 5   Age_band_of_driver           12316 non-null  object\n",
            " 6   Sex_of_driver                12316 non-null  object\n",
            " 7   Educational_level            12316 non-null  object\n",
            " 8   Vehicle_driver_relation      12316 non-null  object\n",
            " 9   Type_of_vehicle              12316 non-null  object\n",
            " 10  Driving_experience           12316 non-null  object\n",
            " 11  Service_year_of_vehicle      12316 non-null  object\n",
            " 12  Type_of_collision            12316 non-null  object\n",
            " 13  Sex_of_casualty              12316 non-null  object\n",
            " 14  Age_band_of_casualty         12316 non-null  object\n",
            " 15  Cause_of_accident            12316 non-null  object\n",
            " 16  Hour_of_Day                  12316 non-null  int64 \n",
            "dtypes: int64(3), object(14)\n",
            "memory usage: 1.6+ MB\n"
          ]
        }
      ]
    },
    {
      "cell_type": "code",
      "source": [
        "# setting input features X and target y \n",
        "X = feature_df[features] # here features are selected from 'object' datatype\n",
        "y = n_df['Accident_severity']\n",
        "\n",
        "# we will use pandas get_dummies method for on-hot encoding\n",
        "encoded_df = pd.get_dummies(X, drop_first=True)\n",
        "encoded_df.shape\n"
      ],
      "metadata": {
        "colab": {
          "base_uri": "https://localhost:8080/"
        },
        "id": "gUyvUm2QcfkP",
        "outputId": "7cc0e0be-ba0e-4f12-9c4f-5de9a2b24602"
      },
      "execution_count": 14,
      "outputs": [
        {
          "output_type": "execute_result",
          "data": {
            "text/plain": [
              "(12316, 106)"
            ]
          },
          "metadata": {},
          "execution_count": 14
        }
      ]
    },
    {
      "cell_type": "code",
      "source": [
        "# import labelencoder from sklearn.preprocessing\n",
        "from sklearn.preprocessing import LabelEncoder\n",
        "\n",
        "# create labelencoder object\n",
        "lb = LabelEncoder()\n",
        "lb.fit(y)\n",
        "y_encoded = lb.transform(y)\n",
        "print(\"Encoded labels:\",lb.classes_)\n",
        "y_en = pd.Series(y_encoded)\n"
      ],
      "metadata": {
        "colab": {
          "base_uri": "https://localhost:8080/"
        },
        "id": "HWgABCbzcfnp",
        "outputId": "fffed6f4-78a2-4413-b1c0-d6af60573b90"
      },
      "execution_count": 15,
      "outputs": [
        {
          "output_type": "stream",
          "name": "stdout",
          "text": [
            "Encoded labels: ['Fatal injury' 'Serious Injury' 'Slight Injury']\n"
          ]
        }
      ]
    },
    {
      "cell_type": "code",
      "source": [
        "# feature selection method using chi2 for categorical output, categorical input\n",
        "from sklearn.feature_selection import SelectKBest, chi2\n",
        "fs = SelectKBest(chi2, k=50)\n",
        "X_new = fs.fit_transform(encoded_df, y_en)\n",
        "\n",
        "# Take the selected features\n",
        "cols = fs.get_feature_names_out()\n",
        "\n",
        "# convert selected features into dataframe\n",
        "fs_df = pd.DataFrame(X_new, columns=cols)\n"
      ],
      "metadata": {
        "id": "0MNGpvrHcfqW"
      },
      "execution_count": 16,
      "outputs": []
    },
    {
      "cell_type": "code",
      "source": [
        "import numpy as np\n",
        "\n",
        "# importing the SMOTENC object from imblearn library \n",
        "from imblearn.over_sampling import SMOTENC\n",
        "\n",
        "# categorical features for SMOTENC technique for categorical features\n",
        "n_cat_index = np.array(range(3,50))\n",
        "\n",
        "# creating smote object with SMOTENC class\n",
        "smote = SMOTENC(categorical_features=n_cat_index, random_state=42, n_jobs=True)\n",
        "X_n, y_n = smote.fit_resample(fs_df,y_en)\n",
        "\n",
        "# print the shape of new upsampled dataset\n",
        "X_n.shape, y_n.shape\n"
      ],
      "metadata": {
        "colab": {
          "base_uri": "https://localhost:8080/"
        },
        "id": "1n1dZLRZcfsf",
        "outputId": "ff8ad79f-ebac-4356-f88a-e952170c1deb"
      },
      "execution_count": 17,
      "outputs": [
        {
          "output_type": "stream",
          "name": "stderr",
          "text": [
            "/usr/local/lib/python3.10/dist-packages/imblearn/over_sampling/_smote/base.py:572: FutureWarning: The parameter `n_jobs` has been deprecated in 0.10 and will be removed in 0.12. You can pass an nearest neighbors estimator where `n_jobs` is already set instead.\n",
            "  warnings.warn(\n",
            "/usr/local/lib/python3.10/dist-packages/imblearn/over_sampling/_smote/base.py:336: FutureWarning: The parameter `n_jobs` has been deprecated in 0.10 and will be removed in 0.12. You can pass an nearest neighbors estimator where `n_jobs` is already set instead.\n",
            "  warnings.warn(\n"
          ]
        },
        {
          "output_type": "execute_result",
          "data": {
            "text/plain": [
              "((31245, 50), (31245,))"
            ]
          },
          "metadata": {},
          "execution_count": 17
        }
      ]
    },
    {
      "cell_type": "code",
      "source": [
        "# print the target classes distribution\n",
        "print(y_n.value_counts())\n"
      ],
      "metadata": {
        "colab": {
          "base_uri": "https://localhost:8080/"
        },
        "id": "iqWW6X42cfup",
        "outputId": "4e43d53d-d9aa-4253-ef26-54ada233a2f1"
      },
      "execution_count": 18,
      "outputs": [
        {
          "output_type": "stream",
          "name": "stdout",
          "text": [
            "2    10415\n",
            "1    10415\n",
            "0    10415\n",
            "dtype: int64\n"
          ]
        }
      ]
    },
    {
      "cell_type": "code",
      "source": [
        "# import the necessary libraries\n",
        "from sklearn.model_selection import train_test_split\n",
        "from sklearn.ensemble import RandomForestClassifier\n",
        "from sklearn.metrics import confusion_matrix, classification_report, f1_score\n",
        "\n",
        "# train and test split and building baseline model to predict target features\n",
        "X_trn, X_tst, y_trn, y_tst = train_test_split(X_n, y_n, test_size=0.2, random_state=42)\n",
        "\n",
        "# modelling using random forest baseline\n",
        "rf = RandomForestClassifier(n_estimators=800, max_depth=20, random_state=42)\n",
        "rf.fit(X_trn, y_trn)\n",
        "\n",
        "# predicting on test data\n",
        "predics = rf.predict(X_tst)\n",
        "\n",
        "# train score \n",
        "rf.score(X_trn, y_trn)\n"
      ],
      "metadata": {
        "colab": {
          "base_uri": "https://localhost:8080/"
        },
        "id": "jDCmwSE_cfwx",
        "outputId": "5cfeaa7f-4b09-44dd-e8c6-7a81ca91ed40"
      },
      "execution_count": 19,
      "outputs": [
        {
          "output_type": "execute_result",
          "data": {
            "text/plain": [
              "0.9439910385661706"
            ]
          },
          "metadata": {},
          "execution_count": 19
        }
      ]
    },
    {
      "cell_type": "code",
      "source": [
        "stackup_username = \"MrRookie\"\n",
        "print(\"Submission by:\", stackup_username)\n",
        "\n",
        "# classification report on test dataset\n",
        "classif_re = classification_report(y_tst,predics)\n",
        "print(classif_re)\n"
      ],
      "metadata": {
        "id": "y1O-BxvccfzW",
        "colab": {
          "base_uri": "https://localhost:8080/"
        },
        "outputId": "cad335d1-a075-4e62-9f20-7a6af00edd3c"
      },
      "execution_count": 21,
      "outputs": [
        {
          "output_type": "stream",
          "name": "stdout",
          "text": [
            "Submission by: MrRookie\n",
            "              precision    recall  f1-score   support\n",
            "\n",
            "           0       0.95      0.96      0.95      2085\n",
            "           1       0.84      0.84      0.84      2100\n",
            "           2       0.86      0.86      0.86      2064\n",
            "\n",
            "    accuracy                           0.88      6249\n",
            "   macro avg       0.88      0.88      0.88      6249\n",
            "weighted avg       0.88      0.88      0.88      6249\n",
            "\n"
          ]
        }
      ]
    },
    {
      "cell_type": "code",
      "source": [
        "stackup_username = \"MrRookie\"\n",
        "print(\"Submission by:\", stackup_username)\n",
        "\n",
        "# classification report on test dataset\n",
        "classif_re = classification_report(y_tst,predics)\n",
        "print(classif_re)\n"
      ],
      "metadata": {
        "colab": {
          "base_uri": "https://localhost:8080/"
        },
        "id": "kbcmxu_Gcf2V",
        "outputId": "4376c720-43a5-4208-c63c-f36797f026bc"
      },
      "execution_count": 22,
      "outputs": [
        {
          "output_type": "stream",
          "name": "stdout",
          "text": [
            "Submission by: MrRookie\n",
            "              precision    recall  f1-score   support\n",
            "\n",
            "           0       0.95      0.96      0.95      2085\n",
            "           1       0.84      0.84      0.84      2100\n",
            "           2       0.86      0.86      0.86      2064\n",
            "\n",
            "    accuracy                           0.88      6249\n",
            "   macro avg       0.88      0.88      0.88      6249\n",
            "weighted avg       0.88      0.88      0.88      6249\n",
            "\n"
          ]
        }
      ]
    },
    {
      "cell_type": "code",
      "source": [
        "# f1_score of the model\n",
        "f1score = f1_score(y_tst,predics, average='weighted')\n",
        "print(f1score)\n"
      ],
      "metadata": {
        "colab": {
          "base_uri": "https://localhost:8080/"
        },
        "id": "UI2LQXbccf5p",
        "outputId": "c2538947-4365-494a-b178-03936e8e4105"
      },
      "execution_count": 23,
      "outputs": [
        {
          "output_type": "stream",
          "name": "stdout",
          "text": [
            "0.884425879481897\n"
          ]
        }
      ]
    },
    {
      "cell_type": "code",
      "source": [
        "# selecting 7 categorical features from the dataframe\n",
        "import joblib\n",
        "from sklearn.preprocessing import OrdinalEncoder\n",
        "\n",
        "new_fea_df = feature_df[['Type_of_collision','Age_band_of_driver','Sex_of_driver',\n",
        "    'Educational_level','Service_year_of_vehicle','Day_of_week','Area_accident_occured']]\n",
        "\n",
        "oencoder2 = OrdinalEncoder()\n",
        "encoded_df3 = pd.DataFrame(oencoder2.fit_transform(new_fea_df))\n",
        "encoded_df3.columns = new_fea_df.columns\n",
        "\n",
        "# save the ordinal encoder object for inference pipeline\n",
        "joblib.dump(oencoder2, \"ordinal_encoder2.joblib\")\n"
      ],
      "metadata": {
        "id": "jy3igXLEcf9X",
        "colab": {
          "base_uri": "https://localhost:8080/"
        },
        "outputId": "5bc5276d-a8ab-48ac-93c9-8d8cbec3473e"
      },
      "execution_count": 24,
      "outputs": [
        {
          "output_type": "execute_result",
          "data": {
            "text/plain": [
              "['ordinal_encoder2.joblib']"
            ]
          },
          "metadata": {},
          "execution_count": 24
        }
      ]
    },
    {
      "cell_type": "code",
      "source": [
        "# final dataframe to be trained for model inference\n",
        "s_final_df = pd.concat([feature_df[['Number_of_vehicles_involved','Number_of_casualties','Hour_of_Day']],encoded_df3], axis=1)\n",
        "\n",
        "# train and test split and building baseline model to predict target features\n",
        "X_trn2, X_tst2, y_trn2, y_tst2 = train_test_split(s_final_df, y_en, test_size=0.2, random_state=42)\n",
        "\n",
        "# modelling using random forest baseline\n",
        "rf = RandomForestClassifier(n_estimators=700, max_depth=20, random_state=42)\n",
        "rf.fit(X_trn2, y_trn2)\n",
        "\n",
        "# save the model object\n",
        "joblib.dump(rf, \"rta_model_deploy3.joblib\", compress=9)\n"
      ],
      "metadata": {
        "colab": {
          "base_uri": "https://localhost:8080/"
        },
        "id": "AeGI1jlFvUYQ",
        "outputId": "2fb731a1-b6d8-43a0-93a5-36b131dd8a18"
      },
      "execution_count": 25,
      "outputs": [
        {
          "output_type": "execute_result",
          "data": {
            "text/plain": [
              "['rta_model_deploy3.joblib']"
            ]
          },
          "metadata": {},
          "execution_count": 25
        }
      ]
    },
    {
      "cell_type": "code",
      "source": [],
      "metadata": {
        "id": "KMLyWGnyvUbC"
      },
      "execution_count": null,
      "outputs": []
    },
    {
      "cell_type": "code",
      "source": [],
      "metadata": {
        "id": "SYnozyMKvUdY"
      },
      "execution_count": null,
      "outputs": []
    },
    {
      "cell_type": "code",
      "source": [],
      "metadata": {
        "id": "fIOFh_qpvUf8"
      },
      "execution_count": null,
      "outputs": []
    },
    {
      "cell_type": "code",
      "source": [],
      "metadata": {
        "id": "GiJGrkievUim"
      },
      "execution_count": null,
      "outputs": []
    },
    {
      "cell_type": "code",
      "source": [],
      "metadata": {
        "id": "LzwX3OtYvUlW"
      },
      "execution_count": null,
      "outputs": []
    },
    {
      "cell_type": "code",
      "source": [],
      "metadata": {
        "id": "qdDdH0xfvUnz"
      },
      "execution_count": null,
      "outputs": []
    },
    {
      "cell_type": "code",
      "source": [],
      "metadata": {
        "id": "FGsOOEDrvUrO"
      },
      "execution_count": null,
      "outputs": []
    },
    {
      "cell_type": "code",
      "source": [],
      "metadata": {
        "id": "FkOWDFpzRfTZ"
      },
      "execution_count": null,
      "outputs": []
    },
    {
      "cell_type": "code",
      "source": [],
      "metadata": {
        "id": "6vIz7yzPRCcq"
      },
      "execution_count": null,
      "outputs": []
    }
  ]
}